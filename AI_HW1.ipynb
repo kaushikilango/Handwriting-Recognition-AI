{
  "nbformat": 4,
  "nbformat_minor": 0,
  "metadata": {
    "colab": {
      "provenance": []
    },
    "kernelspec": {
      "name": "python3",
      "display_name": "Python 3"
    },
    "language_info": {
      "name": "python"
    }
  },
  "cells": [
    {
      "cell_type": "code",
      "execution_count": null,
      "metadata": {
        "id": "_j8yq3D1onyZ"
      },
      "outputs": [],
      "source": [
        "import time\n",
        "start_time = time.time()\n",
        "import numpy as np\n",
        "from mlxtend.data import loadlocal_mnist\n",
        "import matplotlib.pyplot as plt"
      ]
    },
    {
      "cell_type": "code",
      "source": [
        "X_train, y_train = loadlocal_mnist(images_path='train-images.idx3-ubyte', labels_path='train-labels.idx1-ubyte')\n",
        "X_test, y_test = loadlocal_mnist(images_path= 't10k-images.idx3-ubyte', labels_path= 't10k-labels.idx1-ubyte')\n",
        "print(f'Initial size of the training set of the given dataset  = {X_train.shape}')\n",
        "print(f'Initial size of the testing set of the given dataset = {X_test.shape}')"
      ],
      "metadata": {
        "id": "I_GhdAD_qNYO",
        "colab": {
          "base_uri": "https://localhost:8080/"
        },
        "outputId": "820a994a-5848-4bde-95bd-85fa0184ba6d"
      },
      "execution_count": null,
      "outputs": [
        {
          "output_type": "stream",
          "name": "stdout",
          "text": [
            "Initial size of the training set of the given dataset  = (60000, 784)\n",
            "Initial size of the testing set of the given dataset = (10000, 784)\n"
          ]
        }
      ]
    },
    {
      "cell_type": "code",
      "source": [
        "def print_image(image,label,type):  ## function to print the images randomly chosen from the given X_train and X_test\n",
        "  image = image.reshape(28,28)\n",
        "  if type == 'train':\n",
        "    plt.figure()\n",
        "    plt.imshow(image,cmap = 'Blues')\n",
        "    print(f'Label of training data:{label}')\n",
        "  else:\n",
        "    plt.figure()\n",
        "    plt.imshow(image,cmap = 'inferno')\n",
        "    print(f'Label of testing data: {label}')"
      ],
      "metadata": {
        "id": "cM_KmA1z3zsf"
      },
      "execution_count": null,
      "outputs": []
    },
    {
      "cell_type": "code",
      "source": [
        "def normalize(v):\n",
        "  norm = np.linalg.norm(v)\n",
        "  if norm == 0:\n",
        "    return v\n",
        "  return v/norm"
      ],
      "metadata": {
        "id": "cbV8xDeK6z3r"
      },
      "execution_count": null,
      "outputs": []
    },
    {
      "cell_type": "code",
      "source": [
        "def dist(train_data,test_data):\n",
        "  dist_mat = np.empty([train_data.shape[0],test_data.shape[0]])\n",
        "  for i in range(0,train_data.shape[0]):\n",
        "    if(i % 1000 == 0):\n",
        "      print(f'Reached {i} vectors')\n",
        "    for k in range(0,test_data.shape[0]):\n",
        "      dist_mat[i][k] = np.linalg.norm(train_data[i] - test_data[k])\n",
        "  return dist_mat"
      ],
      "metadata": {
        "id": "gJuUS4zZ94Va"
      },
      "execution_count": null,
      "outputs": []
    },
    {
      "cell_type": "code",
      "source": [
        "def retrieve(i,DM,k):\n",
        "  vect = DM[i]\n",
        "  sorted_indices = np.argsort(vect)\n",
        "  return sorted_indices[:k]"
      ],
      "metadata": {
        "id": "pFv5mhIODbXO"
      },
      "execution_count": null,
      "outputs": []
    },
    {
      "cell_type": "code",
      "source": [
        "def precision_score(index_labels,label):\n",
        "  s = 0\n",
        "  for x in index_labels:\n",
        "    if x == label:\n",
        "      s += 1\n",
        "  return s/len(index_labels)\n"
      ],
      "metadata": {
        "id": "vvin8GgdRBnY"
      },
      "execution_count": null,
      "outputs": []
    },
    {
      "cell_type": "code",
      "source": [
        "def average_precision(train_norm,test_norm,train_label,test_label,M,k):\n",
        "  total_score = 0\n",
        "  for i in range(0,M.shape[0]):\n",
        "    I_labels = []\n",
        "    I = retrieve(i,M,k)\n",
        "    for x in I:\n",
        "      I_labels.append(test_label[x])\n",
        "    total_score = total_score + precision_score(I_labels,train_label[i])\n",
        "  return total_score / M.shape[0]"
      ],
      "metadata": {
        "id": "9dA9Jc5-S-1P"
      },
      "execution_count": null,
      "outputs": []
    },
    {
      "cell_type": "code",
      "source": [
        "R = np.random.rand(10) * 100\n",
        "R = [int(x) for x in R]\n",
        "for t in R:\n",
        "  dummy_train = X_train[t]\n",
        "  dummy_test = X_test[t]\n",
        "  print_image(dummy_train,y_train[t],'train')\n",
        "  print_image(dummy_test,y_test[t],'test')"
      ],
      "metadata": {
        "id": "muasBzChm6AV",
        "colab": {
          "base_uri": "https://localhost:8080/",
          "height": 1000
        },
        "outputId": "f1301777-811f-4312-98a8-87b2f6e964f3"
      },
      "execution_count": null,
      "outputs": [
        {
          "output_type": "stream",
          "name": "stdout",
          "text": [
            "Label of training data:4\n",
            "Label of testing data: 8\n",
            "Label of training data:3\n",
            "Label of testing data: 7\n",
            "Label of training data:3\n",
            "Label of testing data: 0\n",
            "Label of training data:1\n",
            "Label of testing data: 0\n",
            "Label of training data:6\n",
            "Label of testing data: 7\n",
            "Label of training data:3\n",
            "Label of testing data: 1\n",
            "Label of training data:6\n",
            "Label of testing data: 3\n",
            "Label of training data:6\n",
            "Label of testing data: 1\n",
            "Label of training data:0\n",
            "Label of testing data: 3\n",
            "Label of training data:1\n",
            "Label of testing data: 2\n"
          ]
        },
        {
          "output_type": "display_data",
          "data": {
            "text/plain": [
              "<Figure size 432x288 with 1 Axes>"
            ],
            "image/png": "[encoded data removed]"
          },
          "metadata": {
            "needs_background": "light"
          }
        },
        {
          "output_type": "display_data",
          "data": {
            "text/plain": [
              "<Figure size 432x288 with 1 Axes>"
            ],
            "image/png": "[encoded data removed]"
          },
          "metadata": {
            "needs_background": "light"
          }
        },
        {
          "output_type": "display_data",
          "data": {
            "text/plain": [
              "<Figure size 432x288 with 1 Axes>"
            ],
            "image/png": "[encoded data removed]"
          },
          "metadata": {
            "needs_background": "light"
          }
        },
        {
          "output_type": "display_data",
          "data": {
            "text/plain": [
              "<Figure size 432x288 with 1 Axes>"
            ],
            "image/png": "[encoded data removed]"
          },
          "metadata": {
            "needs_background": "light"
          }
        },
        {
          "output_type": "display_data",
          "data": {
            "text/plain": [
              "<Figure size 432x288 with 1 Axes>"
            ],
            "image/png": "[encoded data removed]"
          },
          "metadata": {
            "needs_background": "light"
          }
        },
        {
          "output_type": "display_data",
          "data": {
            "text/plain": [
              "<Figure size 432x288 with 1 Axes>"
            ],
            "image/png": "[encoded data removed]"
          },
          "metadata": {
            "needs_background": "light"
          }
        },
        {
          "output_type": "display_data",
          "data": {
            "text/plain": [
              "<Figure size 432x288 with 1 Axes>"
            ],
            "image/png": "[encoded data removed]"
          },
          "metadata": {
            "needs_background": "light"
          }
        },
        {
          "output_type": "display_data",
          "data": {
            "text/plain": [
              "<Figure size 432x288 with 1 Axes>"
            ],
            "image/png": "[encoded data removed]"
          },
          "metadata": {
            "needs_background": "light"
          }
        },
        {
          "output_type": "display_data",
          "data": {
            "text/plain": [
              "<Figure size 432x288 with 1 Axes>"
            ],
            "image/png": "[encoded data removed]"
          },
          "metadata": {
            "needs_background": "light"
          }
        },
        {
          "output_type": "display_data",
          "data": {
            "text/plain": [
              "<Figure size 432x288 with 1 Axes>"
            ],
            "image/png": "[encoded data removed]"
          },
          "metadata": {
            "needs_background": "light"
          }
        },
        {
          "output_type": "display_data",
          "data": {
            "text/plain": [
              "<Figure size 432x288 with 1 Axes>"
            ],
            "image/png": "[encoded data removed]"
          },
          "metadata": {
            "needs_background": "light"
          }
        },
        {
          "output_type": "display_data",
          "data": {
            "text/plain": [
              "<Figure size 432x288 with 1 Axes>"
            ],
            "image/png": "[encoded data removed]"
          },
          "metadata": {
            "needs_background": "light"
          }
        },
        {
          "output_type": "display_data",
          "data": {
            "text/plain": [
              "<Figure size 432x288 with 1 Axes>"
            ],
            "image/png": "[encoded data removed]"
          },
          "metadata": {
            "needs_background": "light"
          }
        },
        {
          "output_type": "display_data",
          "data": {
            "text/plain": [
              "<Figure size 432x288 with 1 Axes>"
            ],
            "image/png": "[encoded data removed]"
          },
          "metadata": {
            "needs_background": "light"
          }
        },
        {
          "output_type": "display_data",
          "data": {
            "text/plain": [
              "<Figure size 432x288 with 1 Axes>"
            ],
            "image/png": "[encoded data removed]"
          },
          "metadata": {
            "needs_background": "light"
          }
        },
        {
          "output_type": "display_data",
          "data": {
            "text/plain": [
              "<Figure size 432x288 with 1 Axes>"
            ],
            "image/png": "[encoded data removed]"
          },
          "metadata": {
            "needs_background": "light"
          }
        },
        {
          "output_type": "display_data",
          "data": {
            "text/plain": [
              "<Figure size 432x288 with 1 Axes>"
            ],
            "image/png": "[encoded data removed]"
          },
          "metadata": {
            "needs_background": "light"
          }
        },
        {
          "output_type": "display_data",
          "data": {
            "text/plain": [
              "<Figure size 432x288 with 1 Axes>"
            ],
            "image/png": "[encoded data removed]"
          },
          "metadata": {
            "needs_background": "light"
          }
        },
        {
          "output_type": "display_data",
          "data": {
            "text/plain": [
              "<Figure size 432x288 with 1 Axes>"
            ],
            "image/png": "[encoded data removed]"
          },
          "metadata": {
            "needs_background": "light"
          }
        },
        {
          "output_type": "display_data",
          "data": {
            "text/plain": [
              "<Figure size 432x288 with 1 Axes>"
            ],
            "image/png": "[encoded data removed]"
          },
          "metadata": {
            "needs_background": "light"
          }
        }
      ]
    },
    {
      "cell_type": "code",
      "source": [
        "train_norm = np.empty([15000,784])\n",
        "test_norm = np.empty([2500,784])\n",
        "train_label = y_train[:15000]   #setting the dataset amount to the number mentioned in the homework pdf\n",
        "test_label = y_test[:2500]  #setting the dataset amount to the number mentioned in the homework pdf\n",
        "for i in range(0,15000):\n",
        "  train_norm[i] = normalize(X_train[i])\n",
        "for i in range(0,2500):\n",
        "  test_norm[i] = normalize(X_test[i])"
      ],
      "metadata": {
        "id": "9HgXdFXg1_kI"
      },
      "execution_count": null,
      "outputs": []
    },
    {
      "cell_type": "code",
      "source": [
        "M = dist(train_norm,test_norm)\n",
        "print(f'Shape of the distance matrix is {M.shape}')\n",
        "total_time = time.time() - start_time\n",
        "print(f'Total run time for calculating the distance matrix for 15000 train cases against 2500 cases is {total_time} seconds')"
      ],
      "metadata": {
        "id": "5ibJwojoOjoT",
        "colab": {
          "base_uri": "https://localhost:8080/"
        },
        "outputId": "3f147428-98f2-49df-fe20-22c12ad3c008"
      },
      "execution_count": null,
      "outputs": [
        {
          "output_type": "stream",
          "name": "stdout",
          "text": [
            "Reached 0 vectors\n",
            "Reached 1000 vectors\n",
            "Reached 2000 vectors\n",
            "Reached 3000 vectors\n",
            "Reached 4000 vectors\n",
            "Reached 5000 vectors\n",
            "Reached 6000 vectors\n",
            "Reached 7000 vectors\n",
            "Reached 8000 vectors\n",
            "Reached 9000 vectors\n",
            "Reached 10000 vectors\n",
            "Reached 11000 vectors\n",
            "Reached 12000 vectors\n",
            "Reached 13000 vectors\n",
            "Reached 14000 vectors\n",
            "Shape of the distance matrix is (15000, 2500)\n",
            "Total run time for calculating the distance matrix for 15000 train cases against 2500 cases is 744.7340774536133 seconds\n"
          ]
        }
      ]
    },
    {
      "cell_type": "code",
      "source": [
        "k = [1, 2, 5, 10, 20, 50, 100, 200, 500, 1000]\n",
        "a = []\n",
        "av_k_pair = {}\n",
        "for x in k:\n",
        "  g = average_precision(train_norm,test_norm,train_label,test_label,M,x)\n",
        "  a.append(g)\n",
        "  av_k_pair[x] = g\n",
        "  print(f'K =  {x} the average precision of the algorithm is {av_k_pair[x]}')\n",
        "  plt.plot(k,a,color='blue', marker='x', linestyle='dashed',\n",
        "     linewidth=2, markersize=12)"
      ],
      "metadata": {
        "id": "BfUZED0JaAsV",
        "colab": {
          "base_uri": "https://localhost:8080/",
          "height": 612
        },
        "outputId": "47e6e16a-1f89-45f1-b6cf-27438878478f"
      },
      "execution_count": null,
      "outputs": [
        {
          "output_type": "stream",
          "name": "stdout",
          "text": [
            "K =  1 the average precision of the algorithm is 0.9013333333333333\n",
            "K =  2 the average precision of the algorithm is 0.8811333333333333\n",
            "K =  5 the average precision of the algorithm is 0.8441199999999836\n",
            "K =  10 the average precision of the algorithm is 0.8044733333333054\n",
            "K =  20 the average precision of the algorithm is 0.7524166666666653\n",
            "K =  50 the average precision of the algorithm is 0.6566893333333217\n",
            "K =  100 the average precision of the algorithm is 0.5580899999999986\n",
            "K =  200 the average precision of the algorithm is 0.4393339999999983\n",
            "K =  500 the average precision of the algorithm is 0.27682786666666465\n",
            "K =  1000 the average precision of the algorithm is 0.18418693333333347\n"
          ]
        },
        {
          "output_type": "execute_result",
          "data": {
            "text/plain": [
              "[<matplotlib.lines.Line2D at 0x7f119234fa50>]"
            ]
          },
          "metadata": {},
          "execution_count": 23
        },
        {
          "output_type": "display_data",
          "data": {
            "text/plain": [
              "<Figure size 432x288 with 0 Axes>"
            ]
          },
          "metadata": {}
        },
        {
          "output_type": "display_data",
          "data": {
            "text/plain": [
              "<Figure size 432x288 with 0 Axes>"
            ]
          },
          "metadata": {}
        },
        {
          "output_type": "display_data",
          "data": {
            "text/plain": [
              "<Figure size 432x288 with 0 Axes>"
            ]
          },
          "metadata": {}
        },
        {
          "output_type": "display_data",
          "data": {
            "text/plain": [
              "<Figure size 432x288 with 0 Axes>"
            ]
          },
          "metadata": {}
        },
        {
          "output_type": "display_data",
          "data": {
            "text/plain": [
              "<Figure size 432x288 with 0 Axes>"
            ]
          },
          "metadata": {}
        },
        {
          "output_type": "display_data",
          "data": {
            "text/plain": [
              "<Figure size 432x288 with 0 Axes>"
            ]
          },
          "metadata": {}
        },
        {
          "output_type": "display_data",
          "data": {
            "text/plain": [
              "<Figure size 432x288 with 0 Axes>"
            ]
          },
          "metadata": {}
        },
        {
          "output_type": "display_data",
          "data": {
            "text/plain": [
              "<Figure size 432x288 with 0 Axes>"
            ]
          },
          "metadata": {}
        },
        {
          "output_type": "display_data",
          "data": {
            "text/plain": [
              "<Figure size 432x288 with 0 Axes>"
            ]
          },
          "metadata": {}
        },
        {
          "output_type": "display_data",
          "data": {
            "text/plain": [
              "<Figure size 432x288 with 1 Axes>"
            ],
            "image/png": "[encoded data removed]"
          },
          "metadata": {
            "needs_background": "light"
          }
        }
      ]
    },
    {
      "cell_type": "markdown",
      "source": [
        "The above graph shows that as we take up more values for the calculation of the approximate label we get more lesser accurate data as the important data is usually the ones with the higher similarity index. After finding the cosine similarity it's always better to use the values from the top n% of the data instead of large amounts of data set."
      ],
      "metadata": {
        "id": "fwzylSa1fhXm"
      }
    }
  ]
}